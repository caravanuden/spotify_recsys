{
 "cells": [
  {
   "cell_type": "code",
   "execution_count": 1,
   "metadata": {},
   "outputs": [],
   "source": [
    "import pandas as pd\n",
    "from pandas.io.json import json_normalize\n",
    "import numpy as np\n",
    "import sys, re, json, os, datetime\n",
    "from collections import Counter\n",
    "import seaborn as sns\n",
    "import matplotlib.pyplot as plt"
   ]
  },
  {
   "cell_type": "markdown",
   "metadata": {},
   "source": [
    "## Exploratory analyses of Spotify MPD\n",
    "\n",
    "![An example playist](img/playlist.png)\n",
    "\n",
    "An example of a Spotify playlist.\n",
    "\n",
    "### Dataset structure\n",
    "\n",
    "The data is structured in arrays that typically contains 1,000 playlists. Each playlist is a dictionary that contains the following fields:\n",
    "\n",
    "+ **pid** - integer - playlist id - the MPD ID of this playlist. This is an integer between 0 and 999,999.\n",
    "+ **name** - string - the name of the playlist\n",
    "+ **description** - optional string - if present, the description given to the playlist. Note that user-provided playlist descrptions are a relatively new feature of Spotify, so most playlists do not have descriptions.\n",
    "+ **modified_at** - seconds - timestamp (in seconds since the epoch) when this playlist was last updated. Times are rounded to midnight GMT of the date when the playlist was last updated.\n",
    "+ **num_artists** - the total number of unique artists for the tracks in the playlist.\n",
    "+ **num_albums** - the number of unique albums for the tracks in the playlist\n",
    "+ **num_tracks** - the number of tracks in the playlist\n",
    "+ **num_followers** - the number of followers this playlist had at the time the MPD was created. (Note that the follower count does not including the playlist creator)\n",
    "+ **num_edits** - the number of separate editing sessions. Tracks added in a two hour window are considered to be added in a single editing session.\n",
    "+ **duration_ms** - the total duration of all the tracks in the playlist (in milliseconds)\n",
    "+ **collaborative** - boolean - if true, the playlist is a collaborative playlist. Multiple users may contribute tracks to a collaborative playlist.\n",
    "+ **tracks** - an array of information about each track in the playlist. Each element in the array is a dictionary with the following fields:\n",
    "    - **track_name** - the name of the track\n",
    "    - **track_uri** - the Spotify URI of the track\n",
    "    - **album_name** - the name of the track's album\n",
    "    - **album_uri** - the Spotify URI of the album\n",
    "    - **artist_name** - the name of the track's primary artist\n",
    "    - **artist_uri** - the Spotify URI of track's primary artist\n",
    "    - **duration_ms** - the duration of the track in milliseconds\n",
    "    - **pos** - the position of the track in the playlist (zero-based)\n",
    "    \n",
    "### Some questions to guide my exploratory analyses\n",
    "\n",
    "1. This dataset was collected between January 2010 to October 2017. What were the top tracks, artists, and genres (measured through playlist titles) at this time?\n",
    "\n",
    "2. Are there natural patterns that fall out of clustering existing playlists? For example, are there playlist-level differences between different genre-specific playlists (such as rock, rap, classical) or \"mood\" playlists (happy, sad, studying)?\n",
    "\n",
    "3. Are there any differences between collaborative and \"personal\" playlists?\n",
    "\n",
    "Note that I removed the failed tests from the show and tell- you can see these in checkpoint.ipynb."
   ]
  },
  {
   "cell_type": "code",
   "execution_count": 2,
   "metadata": {},
   "outputs": [
    {
     "name": "stdout",
     "output_type": "stream",
     "text": [
      "CPU times: user 6min 45s, sys: 23.3 s, total: 7min 8s\n",
      "Wall time: 7min 15s\n"
     ]
    }
   ],
   "source": [
    "%%time \n",
    "total_playlists = 0\n",
    "total_tracks = 0\n",
    "tracks = set()\n",
    "artists = set()\n",
    "albums = set()\n",
    "titles = set()\n",
    "total_descriptions = 0\n",
    "ntitles = set()\n",
    "title_histogram = Counter()\n",
    "artist_histogram = Counter()\n",
    "track_histogram = Counter()\n",
    "last_modified_histogram = Counter()\n",
    "num_edits_histogram = Counter()\n",
    "playlist_length_histogram = Counter()\n",
    "num_followers_histogram = Counter()\n",
    "\n",
    "def process_mpd(path):\n",
    "    count = 0\n",
    "    filenames = os.listdir(path)\n",
    "    for filename in sorted(filenames):\n",
    "        if filename.startswith(\"mpd.slice.\") and filename.endswith(\".json\"):\n",
    "            fullpath = os.sep.join((path, filename))\n",
    "            f = open(fullpath)\n",
    "            js = f.read()\n",
    "            f.close()\n",
    "            mpd_slice = json.loads(js)\n",
    "            process_info(mpd_slice['info'])\n",
    "            for playlist in mpd_slice['playlists']:\n",
    "                process_playlist(playlist)\n",
    "            count += 1\n",
    "\n",
    "def normalize_name(name):\n",
    "    name = name.lower()\n",
    "    name = re.sub(r\"[.,\\/#!$%\\^\\*;:{}=\\_`~()@-]\", ' ', name)\n",
    "    name = re.sub(r\"&\", 'and', name)\n",
    "    name = re.sub(r'\\s+', ' ', name).strip()\n",
    "    return name\n",
    "\n",
    "def to_date(epoch):\n",
    "    return datetime.datetime.fromtimestamp(epoch).strftime(\"%Y-%m-%d\")\n",
    "\n",
    "def process_playlist(playlist):\n",
    "    global total_playlists, total_tracks, total_descriptions\n",
    "\n",
    "    total_playlists += 1\n",
    "    # print playlist['playlist_id'], playlist['name']\n",
    "\n",
    "    if 'description' in playlist:\n",
    "        total_descriptions += 1\n",
    "\n",
    "    titles.add(playlist['name'])\n",
    "    nname = normalize_name(playlist['name'])\n",
    "    ntitles.add(nname)\n",
    "    title_histogram[nname] += 1\n",
    "\n",
    "    playlist_length_histogram[playlist['num_tracks']] += 1\n",
    "    last_modified_histogram[playlist['modified_at']] += 1\n",
    "    num_edits_histogram[playlist['num_edits']] += 1\n",
    "    num_followers_histogram[playlist['num_followers']] += 1\n",
    "\n",
    "    for track in playlist['tracks']:\n",
    "        total_tracks += 1\n",
    "        albums.add(track['album_uri'])\n",
    "        tracks.add(track['track_uri'])\n",
    "        artists.add(track['artist_uri'])\n",
    "\n",
    "        full_name = track['track_name'] + \" by \" + track['artist_name']\n",
    "        artist_histogram[track['artist_name']] += 1\n",
    "        track_histogram[full_name] += 1\n",
    "\n",
    "\n",
    "def process_info(_):\n",
    "    pass\n",
    "\n",
    "path = '../mpd.v1/data'\n",
    "process_mpd(path)"
   ]
  },
  {
   "cell_type": "markdown",
   "metadata": {},
   "source": [
    "### Question 1a\n",
    "\n",
    "This dataset was collected between January 2010 to October 2017. What were the top tracks, artists, and genres (measured through playlist titles) at this time?"
   ]
  },
  {
   "cell_type": "code",
   "execution_count": 3,
   "metadata": {},
   "outputs": [
    {
     "name": "stdout",
     "output_type": "stream",
     "text": [
      "number of playlists 1000000\n",
      "number of tracks 66346428\n",
      "number of unique tracks 2262292\n",
      "number of unique albums 734684\n",
      "number of unique artists 295860\n",
      "number of unique titles 92944\n",
      "number of playlists with descriptions 18760\n",
      "number of unique normalized titles 17266\n",
      "avg playlist length 66.346428\n"
     ]
    }
   ],
   "source": [
    "print (\"number of playlists\", total_playlists)\n",
    "print (\"number of tracks\", total_tracks)\n",
    "print (\"number of unique tracks\", len(tracks))\n",
    "print (\"number of unique albums\", len(albums))\n",
    "print (\"number of unique artists\", len(artists))\n",
    "print (\"number of unique titles\", len(titles))\n",
    "print (\"number of playlists with descriptions\", total_descriptions)\n",
    "print (\"number of unique normalized titles\", len(ntitles))\n",
    "print (\"avg playlist length\", float(total_tracks) / total_playlists)"
   ]
  },
  {
   "cell_type": "code",
   "execution_count": 4,
   "metadata": {
    "scrolled": true
   },
   "outputs": [
    {
     "name": "stdout",
     "output_type": "stream",
     "text": [
      "top playlist titles\n",
      "  10000 country\n",
      "  10000 chill\n",
      "   8493 rap\n",
      "   8481 workout\n",
      "   8146 oldies\n",
      "   8015 christmas\n",
      "   6848 rock\n",
      "   6157 party\n",
      "   5883 throwback\n",
      "   5063 jams\n",
      "   5052 worship\n",
      "   4907 summer\n",
      "   4677 feels\n",
      "   4612 new\n",
      "   4186 disney\n",
      "   4124 lit\n",
      "   4030 throwbacks\n",
      "   3886 music\n",
      "   3513 sleep\n",
      "   3500 vibes\n",
      "\n",
      "\n",
      "top tracks\n",
      "  46574 HUMBLE. by Kendrick Lamar\n",
      "  43447 One Dance by Drake\n",
      "  41309 Broccoli (feat. Lil Yachty) by DRAM\n",
      "  41079 Closer by The Chainsmokers\n",
      "  39987 Congratulations by Post Malone\n",
      "  35202 Caroline by Aminé\n",
      "  35138 iSpy (feat. Lil Yachty) by KYLE\n",
      "  34999 Bad and Boujee (feat. Lil Uzi Vert) by Migos\n",
      "  34990 Location by Khalid\n",
      "  34922 XO TOUR Llif3 by Lil Uzi Vert\n",
      "  33699 Bounce Back by Big Sean\n",
      "  32391 Ignition - Remix by R. Kelly\n",
      "  32336 No Role Modelz by J. Cole\n",
      "  32059 Mask Off by Future\n",
      "  31492 No Problem (feat. Lil Wayne & 2 Chainz) by Chance The Rapper\n",
      "  31374 I'm the One by DJ Khaled\n",
      "  31119 Jumpman by Drake\n",
      "  31106 goosebumps by Travis Scott\n",
      "  30678 Fake Love by Drake\n",
      "  30485 Despacito - Remix by Luis Fonsi\n",
      "\n",
      "\n",
      "top artists\n",
      " 847160 Drake\n",
      " 413297 Kanye West\n",
      " 353624 Kendrick Lamar\n",
      " 339570 Rihanna\n",
      " 316603 The Weeknd\n",
      " 294667 Eminem\n",
      " 272116 Ed Sheeran\n",
      " 250734 Future\n",
      " 243119 Justin Bieber\n",
      " 241560 J. Cole\n",
      " 230857 Beyoncé\n",
      " 223509 The Chainsmokers\n",
      " 212772 Chris Brown\n",
      " 203047 Calvin Harris\n",
      " 198905 Twenty One Pilots\n",
      " 197855 Lil Uzi Vert\n",
      " 195907 Post Malone\n",
      " 192478 Big Sean\n",
      " 187029 Maroon 5\n",
      " 185520 JAY Z\n"
     ]
    }
   ],
   "source": [
    "print (\"top playlist titles\")\n",
    "for title, count in title_histogram.most_common(20):\n",
    "    print (\"%7d %s\" % (count, title))\n",
    "\n",
    "print ('\\n')\n",
    "print (\"top tracks\")\n",
    "for track, count in track_histogram.most_common(20):\n",
    "    print (\"%7d %s\" % (count, track))\n",
    "\n",
    "print ('\\n')\n",
    "print (\"top artists\")\n",
    "for artist, count in artist_histogram.most_common(20):\n",
    "    print (\"%7d %s\" % (count, artist))"
   ]
  },
  {
   "cell_type": "markdown",
   "metadata": {},
   "source": [
    "### Question 1b\n",
    "\n",
    "Let's also look at the distribution of number of edits, playlist length, and number of followers, and see if there are any interesting patterns there."
   ]
  },
  {
   "cell_type": "code",
   "execution_count": 5,
   "metadata": {
    "scrolled": true
   },
   "outputs": [
    {
     "name": "stderr",
     "output_type": "stream",
     "text": [
      "/Library/Frameworks/Python.framework/Versions/3.6/lib/python3.6/site-packages/matplotlib/axes/_axes.py:6462: UserWarning: The 'normed' kwarg is deprecated, and has been replaced by the 'density' kwarg.\n",
      "  warnings.warn(\"The 'normed' kwarg is deprecated, and has been \"\n"
     ]
    },
    {
     "data": {
      "image/png": "[encoded data removed]",
      "text/plain": [
       "<Figure size 432x288 with 1 Axes>"
      ]
     },
     "metadata": {},
     "output_type": "display_data"
    },
    {
     "data": {
      "image/png": "[encoded data removed]",
      "text/plain": [
       "<Figure size 432x288 with 1 Axes>"
      ]
     },
     "metadata": {},
     "output_type": "display_data"
    },
    {
     "data": {
      "image/png": "[encoded data removed]",
      "text/plain": [
       "<Figure size 432x288 with 1 Axes>"
      ]
     },
     "metadata": {},
     "output_type": "display_data"
    }
   ],
   "source": [
    "def show_histogram(hist, num, var):\n",
    "    common = np.array(hist.most_common(num))\n",
    "    sns.distplot(common[:,0], hist_kws={\"weights\":common[:,1]})\n",
    "\n",
    "    plt.xlim(0, None)\n",
    "    plt.title(var)\n",
    "    plt.xlabel(' '.join(var.split()[:-1]))\n",
    "    plt.ylabel('Count')\n",
    "\n",
    "    plt.show()\n",
    "    \n",
    "show_histogram(num_edits_histogram, 20, 'Number of Edits Histogram')\n",
    "show_histogram(playlist_length_histogram, 20, 'Playlist Length Histogram')\n",
    "show_histogram(num_followers_histogram, 20, 'Number of Followers Histogram')"
   ]
  },
  {
   "cell_type": "markdown",
   "metadata": {},
   "source": [
    "Most people edit their playlists less than about 10 times. This makes sense, as each \"edit\" is a two-hour window of adding/removing songs, and most people just create an entirely new playlist instead of continually editing over the span of weeks or months. Additionally, most people have playlists that are between 15 and 30 songs in length, resulting in playlists that are about 90 minutes to 2 hours long. Additionally, he vast majority of playlists have 5 or fewer followers. Most playlists are quite personal and may serve to capture the specific songs of genre or mood that the user actually likes."
   ]
  },
  {
   "cell_type": "markdown",
   "metadata": {},
   "source": [
    "### Question 2\n",
    "\n",
    "Are there natural patterns that fall out of clustering existing playlists? For example, are there playlist-level differences between different genre-specific playlists (such as rock, rap, classical) or \"mood\" playlists (happy, sad, studying)?\n",
    "\n",
    "I'm going to look a few genres/moods: rock, rap/hip-hop, classical, pop, R&B, country, guilty pleasures, cardio/workout, party, happy, sad, studying, and angsty. I want to see if any natural clusters fall out of these genres."
   ]
  },
  {
   "cell_type": "code",
   "execution_count": 14,
   "metadata": {},
   "outputs": [
    {
     "name": "stdout",
     "output_type": "stream",
     "text": [
      "0\n"
     ]
    },
    {
     "name": "stderr",
     "output_type": "stream",
     "text": [
      "/Library/Frameworks/Python.framework/Versions/3.6/lib/python3.6/site-packages/ipykernel_launcher.py:15: SettingWithCopyWarning: \n",
      "A value is trying to be set on a copy of a slice from a DataFrame.\n",
      "Try using .loc[row_indexer,col_indexer] = value instead\n",
      "\n",
      "See the caveats in the documentation: http://pandas.pydata.org/pandas-docs/stable/indexing.html#indexing-view-versus-copy\n",
      "  from ipykernel import kernelapp as app\n"
     ]
    },
    {
     "name": "stdout",
     "output_type": "stream",
     "text": [
      "100\n",
      "200\n",
      "300\n",
      "400\n",
      "500\n",
      "600\n",
      "700\n",
      "800\n",
      "900\n",
      "CPU times: user 42min 47s, sys: 41.3 s, total: 43min 28s\n",
      "Wall time: 1h 6min 16s\n"
     ]
    }
   ],
   "source": [
    "%%time\n",
    "def make_genre_df(path, num_slices, genres):\n",
    "    df_list = [[] for _ in range(len(genres))]\n",
    "    count = 0\n",
    "    filenames = os.listdir(path)\n",
    "    for filename in sorted(filenames):\n",
    "        if count < num_slices and filename.startswith(\"mpd.slice.\") and filename.endswith(\".json\"):\n",
    "            if count % 100 == 0:\n",
    "                print(count)\n",
    "            fullpath = os.sep.join((path, filename))\n",
    "            data = json.load(open(fullpath))\n",
    "            slice_df = json_normalize(data, 'playlists')\n",
    "            slice_df['normalized_name'] = slice_df['name'].apply(lambda x: normalize_name(x))\n",
    "            for i, genre in enumerate(genres):\n",
    "                genre_df = slice_df[slice_df['normalized_name'].str.match(genre)]\n",
    "                genre_df['genre'] = i\n",
    "                df_list[i].append(genre_df)\n",
    "            count += 1\n",
    "    df_list = [pd.concat(genre_df) for genre_df in df_list]\n",
    "    return pd.concat(df_list)\n",
    "\n",
    "path = '../mpd.v1/data'\n",
    "genres = ['rock', '(?:rap|hip hop)', 'classical', 'pop', '(?:r and b|rhythm and blues)', 'country', 'guilty pleasures', '(?:cardio|workout)', 'party', 'happy', 'sad', 'angst', 'study']\n",
    "genre_df = make_genre_df(path, 1000, genres)"
   ]
  },
  {
   "cell_type": "code",
   "execution_count": 15,
   "metadata": {},
   "outputs": [
    {
     "data": {
      "text/html": [
       "<div>\n",
       "<style scoped>\n",
       "    .dataframe tbody tr th:only-of-type {\n",
       "        vertical-align: middle;\n",
       "    }\n",
       "\n",
       "    .dataframe tbody tr th {\n",
       "        vertical-align: top;\n",
       "    }\n",
       "\n",
       "    .dataframe thead th {\n",
       "        text-align: right;\n",
       "    }\n",
       "</style>\n",
       "<table border=\"1\" class=\"dataframe\">\n",
       "  <thead>\n",
       "    <tr style=\"text-align: right;\">\n",
       "      <th></th>\n",
       "      <th>collaborative</th>\n",
       "      <th>description</th>\n",
       "      <th>duration_ms</th>\n",
       "      <th>modified_at</th>\n",
       "      <th>name</th>\n",
       "      <th>num_albums</th>\n",
       "      <th>num_artists</th>\n",
       "      <th>num_edits</th>\n",
       "      <th>num_followers</th>\n",
       "      <th>num_tracks</th>\n",
       "      <th>pid</th>\n",
       "      <th>tracks</th>\n",
       "      <th>normalized_name</th>\n",
       "      <th>genre</th>\n",
       "    </tr>\n",
       "  </thead>\n",
       "  <tbody>\n",
       "    <tr>\n",
       "      <th>168</th>\n",
       "      <td>false</td>\n",
       "      <td>NaN</td>\n",
       "      <td>2792225</td>\n",
       "      <td>1432512000</td>\n",
       "      <td>Rock alternativo</td>\n",
       "      <td>11</td>\n",
       "      <td>9</td>\n",
       "      <td>3</td>\n",
       "      <td>1</td>\n",
       "      <td>12</td>\n",
       "      <td>168</td>\n",
       "      <td>[{'pos': 0, 'artist_name': 'Green Day', 'track...</td>\n",
       "      <td>rock alternativo</td>\n",
       "      <td>0</td>\n",
       "    </tr>\n",
       "    <tr>\n",
       "      <th>417</th>\n",
       "      <td>false</td>\n",
       "      <td>NaN</td>\n",
       "      <td>4516482</td>\n",
       "      <td>1491436800</td>\n",
       "      <td>Rock</td>\n",
       "      <td>8</td>\n",
       "      <td>6</td>\n",
       "      <td>4</td>\n",
       "      <td>1</td>\n",
       "      <td>17</td>\n",
       "      <td>417</td>\n",
       "      <td>[{'pos': 0, 'artist_name': 'Starset', 'track_u...</td>\n",
       "      <td>rock</td>\n",
       "      <td>0</td>\n",
       "    </tr>\n",
       "    <tr>\n",
       "      <th>543</th>\n",
       "      <td>false</td>\n",
       "      <td>NaN</td>\n",
       "      <td>23420250</td>\n",
       "      <td>1439078400</td>\n",
       "      <td>Rock</td>\n",
       "      <td>74</td>\n",
       "      <td>66</td>\n",
       "      <td>22</td>\n",
       "      <td>1</td>\n",
       "      <td>87</td>\n",
       "      <td>543</td>\n",
       "      <td>[{'pos': 0, 'artist_name': 'Pearl Jam', 'track...</td>\n",
       "      <td>rock</td>\n",
       "      <td>0</td>\n",
       "    </tr>\n",
       "    <tr>\n",
       "      <th>580</th>\n",
       "      <td>false</td>\n",
       "      <td>NaN</td>\n",
       "      <td>12819026</td>\n",
       "      <td>1487462400</td>\n",
       "      <td>rock</td>\n",
       "      <td>45</td>\n",
       "      <td>36</td>\n",
       "      <td>4</td>\n",
       "      <td>1</td>\n",
       "      <td>48</td>\n",
       "      <td>580</td>\n",
       "      <td>[{'pos': 0, 'artist_name': 'Third Eye Blind', ...</td>\n",
       "      <td>rock</td>\n",
       "      <td>0</td>\n",
       "    </tr>\n",
       "    <tr>\n",
       "      <th>634</th>\n",
       "      <td>false</td>\n",
       "      <td>NaN</td>\n",
       "      <td>13777908</td>\n",
       "      <td>1508025600</td>\n",
       "      <td>ROCK🎸</td>\n",
       "      <td>51</td>\n",
       "      <td>41</td>\n",
       "      <td>26</td>\n",
       "      <td>3</td>\n",
       "      <td>56</td>\n",
       "      <td>634</td>\n",
       "      <td>[{'pos': 0, 'artist_name': 'Don McLean', 'trac...</td>\n",
       "      <td>rock🎸</td>\n",
       "      <td>0</td>\n",
       "    </tr>\n",
       "  </tbody>\n",
       "</table>\n",
       "</div>"
      ],
      "text/plain": [
       "    collaborative description  duration_ms  modified_at              name  \\\n",
       "168         false         NaN      2792225   1432512000  Rock alternativo   \n",
       "417         false         NaN      4516482   1491436800              Rock   \n",
       "543         false         NaN     23420250   1439078400              Rock   \n",
       "580         false         NaN     12819026   1487462400              rock   \n",
       "634         false         NaN     13777908   1508025600             ROCK🎸   \n",
       "\n",
       "     num_albums  num_artists  num_edits  num_followers  num_tracks  pid  \\\n",
       "168          11            9          3              1          12  168   \n",
       "417           8            6          4              1          17  417   \n",
       "543          74           66         22              1          87  543   \n",
       "580          45           36          4              1          48  580   \n",
       "634          51           41         26              3          56  634   \n",
       "\n",
       "                                                tracks   normalized_name  \\\n",
       "168  [{'pos': 0, 'artist_name': 'Green Day', 'track...  rock alternativo   \n",
       "417  [{'pos': 0, 'artist_name': 'Starset', 'track_u...              rock   \n",
       "543  [{'pos': 0, 'artist_name': 'Pearl Jam', 'track...              rock   \n",
       "580  [{'pos': 0, 'artist_name': 'Third Eye Blind', ...              rock   \n",
       "634  [{'pos': 0, 'artist_name': 'Don McLean', 'trac...             rock🎸   \n",
       "\n",
       "     genre  \n",
       "168      0  \n",
       "417      0  \n",
       "543      0  \n",
       "580      0  \n",
       "634      0  "
      ]
     },
     "execution_count": 15,
     "metadata": {},
     "output_type": "execute_result"
    }
   ],
   "source": [
    "genre_df.head()"
   ]
  },
  {
   "cell_type": "code",
   "execution_count": 23,
   "metadata": {},
   "outputs": [
    {
     "name": "stdout",
     "output_type": "stream",
     "text": [
      "There are 13 genres.\n"
     ]
    },
    {
     "data": {
      "text/html": [
       "<div>\n",
       "<style scoped>\n",
       "    .dataframe tbody tr th:only-of-type {\n",
       "        vertical-align: middle;\n",
       "    }\n",
       "\n",
       "    .dataframe tbody tr th {\n",
       "        vertical-align: top;\n",
       "    }\n",
       "\n",
       "    .dataframe thead th {\n",
       "        text-align: right;\n",
       "    }\n",
       "</style>\n",
       "<table border=\"1\" class=\"dataframe\">\n",
       "  <thead>\n",
       "    <tr style=\"text-align: right;\">\n",
       "      <th></th>\n",
       "      <th>duration_ms</th>\n",
       "      <th>num_albums</th>\n",
       "      <th>num_artists</th>\n",
       "      <th>num_edits</th>\n",
       "      <th>num_followers</th>\n",
       "      <th>num_tracks</th>\n",
       "      <th>collaborative</th>\n",
       "    </tr>\n",
       "  </thead>\n",
       "  <tbody>\n",
       "    <tr>\n",
       "      <th>168</th>\n",
       "      <td>2792225</td>\n",
       "      <td>11</td>\n",
       "      <td>9</td>\n",
       "      <td>3</td>\n",
       "      <td>1</td>\n",
       "      <td>12</td>\n",
       "      <td>0</td>\n",
       "    </tr>\n",
       "    <tr>\n",
       "      <th>417</th>\n",
       "      <td>4516482</td>\n",
       "      <td>8</td>\n",
       "      <td>6</td>\n",
       "      <td>4</td>\n",
       "      <td>1</td>\n",
       "      <td>17</td>\n",
       "      <td>0</td>\n",
       "    </tr>\n",
       "    <tr>\n",
       "      <th>543</th>\n",
       "      <td>23420250</td>\n",
       "      <td>74</td>\n",
       "      <td>66</td>\n",
       "      <td>22</td>\n",
       "      <td>1</td>\n",
       "      <td>87</td>\n",
       "      <td>0</td>\n",
       "    </tr>\n",
       "    <tr>\n",
       "      <th>580</th>\n",
       "      <td>12819026</td>\n",
       "      <td>45</td>\n",
       "      <td>36</td>\n",
       "      <td>4</td>\n",
       "      <td>1</td>\n",
       "      <td>48</td>\n",
       "      <td>0</td>\n",
       "    </tr>\n",
       "    <tr>\n",
       "      <th>634</th>\n",
       "      <td>13777908</td>\n",
       "      <td>51</td>\n",
       "      <td>41</td>\n",
       "      <td>26</td>\n",
       "      <td>3</td>\n",
       "      <td>56</td>\n",
       "      <td>0</td>\n",
       "    </tr>\n",
       "  </tbody>\n",
       "</table>\n",
       "</div>"
      ],
      "text/plain": [
       "     duration_ms  num_albums  num_artists  num_edits  num_followers  \\\n",
       "168      2792225          11            9          3              1   \n",
       "417      4516482           8            6          4              1   \n",
       "543     23420250          74           66         22              1   \n",
       "580     12819026          45           36          4              1   \n",
       "634     13777908          51           41         26              3   \n",
       "\n",
       "     num_tracks  collaborative  \n",
       "168          12              0  \n",
       "417          17              0  \n",
       "543          87              0  \n",
       "580          48              0  \n",
       "634          56              0  "
      ]
     },
     "execution_count": 23,
     "metadata": {},
     "output_type": "execute_result"
    }
   ],
   "source": [
    "import matplotlib.pyplot as plt\n",
    "from sklearn import metrics\n",
    "from sklearn.cluster import KMeans\n",
    "from sklearn.decomposition import PCA\n",
    "\n",
    "feature_cols = ['duration_ms', 'num_albums', 'num_artists', 'num_edits', 'num_followers', 'num_tracks', 'collaborative']\n",
    "genre_df = genre_df.replace({'collaborative': {'false':0, 'true':1}})\n",
    "genre_df[feature_cols] = genre_df[feature_cols].apply(pd.to_numeric, errors='coerce')\n",
    "\n",
    "data = genre_df[feature_cols]\n",
    "labels = genre_df['genre']\n",
    "n_genres = genre_df['genre'].nunique()\n",
    "\n",
    "print('There are {0} genres.'.format(n_genres))\n",
    "data.head()"
   ]
  },
  {
   "cell_type": "code",
   "execution_count": 29,
   "metadata": {},
   "outputs": [
    {
     "name": "stdout",
     "output_type": "stream",
     "text": [
      "precision: [0.12807882 0.23878437 0.02143433 0.05471677 0.00357498 0.14612106\n",
      " 0.00526946 0.08544839 0.10070347 0.04574163 0.01048066 0.00365755\n",
      " 0.15      ]\n",
      "recall: [0.13278154 0.05460683 0.05371567 0.09482589 0.07531381 0.10249357\n",
      " 0.04081633 0.00899136 0.12023005 0.11616039 0.00722832 0.07377049\n",
      " 0.00154759]\n",
      "f-score: [0.13038779 0.08888649 0.03064163 0.06939246 0.00682594 0.12047939\n",
      " 0.0093339  0.01627064 0.10960386 0.0656368  0.00855583 0.00696954\n",
      " 0.00306357]\n"
     ]
    }
   ],
   "source": [
    "model = KMeans(n_clusters=n_genres, random_state=0)\n",
    "model.fit(data)\n",
    "\n",
    "model_metrics = metrics.precision_recall_fscore_support(labels, model.labels_)\n",
    "\n",
    "print('precision: {0}'.format(model_metrics[0]))\n",
    "print('recall: {0}'.format(model_metrics[1]))\n",
    "print('f-score: {0}'.format(model_metrics[2]))"
   ]
  },
  {
   "cell_type": "markdown",
   "metadata": {},
   "source": [
    "Looking at the f-scores of my genre kmeans clustering model, it seems that there are not playlist-level features (besides name, of course) that differentiate playlists from different genres. However, the rock, country, and party genres had the highest f-scores (of 0.13, 0.12, and 0.11, respectively) out of all of the genres. This surprised me, as I thought that genres like studying or classical would have more distinguishing features, as they tend to be longer, and I would think that they'd have more followers (Who wants to make a 5 hour playlist of background studying music? Not me).\n",
    "\n",
    "I was going to visual this clustering with PCA (to reduce feature dim), but my computer ran out of memory and my kernel died. To avoid having to load the genre dataframe again and destroying my computer, I'm going to end this analysis here. I've left my visualization code below if you'd like to give it a go. I think in the future it would be interesting to see if any genres naturally cluster together - for example, maybe rock and angst, classical and studying, or happy and pop might cluster together. "
   ]
  },
  {
   "cell_type": "code",
   "execution_count": null,
   "metadata": {},
   "outputs": [],
   "source": [
    "# I run into memory errors oh no\n",
    "# I tried to clear the genre df, but that killed my kernel\n",
    "# del genre_df\n",
    "\n",
    "# reduce the data w PCA for visualization\n",
    "reduced_data = PCA(n_components=2).fit_transform(data)\n",
    "model = KMeans(n_clusters=n_genres, random_state=0)\n",
    "model.fit(reduced_data)\n",
    "\n",
    "# step size of the mesh, decrease to increase the quality of the VQ\n",
    "h = .02     # point in the mesh [x_min, x_max]x[y_min, y_max].\n",
    "\n",
    "# plot the decision boundary\n",
    "x_min, x_max = reduced_data[:, 0].min() - 1, reduced_data[:, 0].max() + 1\n",
    "y_min, y_max = reduced_data[:, 1].min() - 1, reduced_data[:, 1].max() + 1\n",
    "xx, yy = np.meshgrid(np.arange(x_min, x_max, h), np.arange(y_min, y_max, h))\n",
    "\n",
    "# get labels for each point in mesh\n",
    "Z = kmeans.predict(np.c_[xx.ravel(), yy.ravel()])\n",
    "\n",
    "# put the result into a colored scatterplot\n",
    "Z = Z.reshape(xx.shape)\n",
    "plt.figure(1)\n",
    "plt.clf()\n",
    "plt.imshow(Z, interpolation='nearest',\n",
    "           extent=(xx.min(), xx.max(), yy.min(), yy.max()),\n",
    "           cmap=plt.cm.Paired,\n",
    "           aspect='auto', origin='lower')\n",
    "\n",
    "plt.plot(reduced_data[:, 0], reduced_data[:, 1], 'k.', markersize=2)\n",
    "\n",
    "# plot the cluster means\n",
    "centroids = kmeans.cluster_centers_\n",
    "plt.scatter(centroids[:, 0], centroids[:, 1],\n",
    "            marker='x', s=100, linewidths=3,\n",
    "            color='w', zorder=10)\n",
    "plt.title('K-means clustering on playlist genres (PCA-reduced data)\\n'\n",
    "          'Cluster means are marked with white X')\n",
    "plt.xlim(x_min, x_max)\n",
    "plt.ylim(y_min, y_max)\n",
    "plt.xticks(())\n",
    "plt.yticks(())\n",
    "plt.show()"
   ]
  },
  {
   "cell_type": "markdown",
   "metadata": {},
   "source": [
    "### Question 3\n",
    "\n",
    "Are there any differences between collaborative and \"personal\" playlists? I hypothesize that collaborative playlists will have a greater diversity of artists, have more edits, and have more followers than personal playlists."
   ]
  },
  {
   "cell_type": "code",
   "execution_count": 2,
   "metadata": {},
   "outputs": [
    {
     "name": "stdout",
     "output_type": "stream",
     "text": [
      "0\n",
      "100\n",
      "200\n",
      "300\n",
      "400\n",
      "500\n",
      "600\n",
      "700\n",
      "800\n",
      "900\n",
      "CPU times: user 3min 49s, sys: 27.4 s, total: 4min 17s\n",
      "Wall time: 4min 25s\n"
     ]
    }
   ],
   "source": [
    "%%time\n",
    "def normalize_name(name):\n",
    "    name = name.lower()\n",
    "    name = re.sub(r\"[.,\\/#!$%\\^\\*;:{}=\\_`~()@-]\", ' ', name)\n",
    "    name = re.sub(r\"&\", 'and', name)\n",
    "    name = re.sub(r'\\s+', ' ', name).strip()\n",
    "    return name\n",
    "\n",
    "def make_social_df(path, num_slices, cutoff):\n",
    "    df_list = []\n",
    "    count = 0\n",
    "    filenames = os.listdir(path)\n",
    "    for filename in sorted(filenames):\n",
    "        if count < num_slices and filename.startswith(\"mpd.slice.\") and filename.endswith(\".json\"):\n",
    "            if count % 100 == 0:\n",
    "                print(count)\n",
    "            fullpath = os.sep.join((path, filename))\n",
    "            data = json.load(open(fullpath))\n",
    "            slice_df = json_normalize(data, 'playlists')\n",
    "            slice_df['normalized_name'] = slice_df['name'].apply(lambda x: normalize_name(x))\n",
    "            popular_df = slice_df[slice_df['num_followers'] >= cutoff]\n",
    "            df_list.append(popular_df)\n",
    "            count += 1\n",
    "    return pd.concat(df_list)\n",
    "\n",
    "path = '../mpd.v1/data'\n",
    "social_df = make_social_df(path, 1000, 5)"
   ]
  },
  {
   "cell_type": "code",
   "execution_count": 2,
   "metadata": {},
   "outputs": [
    {
     "name": "stdout",
     "output_type": "stream",
     "text": [
      "(29651, 13)\n"
     ]
    }
   ],
   "source": [
    "feature_cols = ['duration_ms', 'num_albums', 'num_artists', 'num_edits', 'num_followers', 'num_tracks', 'collaborative']\n",
    "social_df = social_df.replace({'collaborative': {'false':0, 'true':1}})\n",
    "social_df[feature_cols] = social_df[feature_cols].apply(pd.to_numeric, errors='coerce')\n",
    "print(social_df.shape)"
   ]
  },
  {
   "cell_type": "markdown",
   "metadata": {},
   "source": [
    "Note that I am only looking at playlists with more than 5 followers. Since I'm mostly looking at the social aspect of playlist creation here, I want to focus on playlists with more social engagement. Let's see what the playlists with the most followers, artists, and edits are!"
   ]
  },
  {
   "cell_type": "code",
   "execution_count": 5,
   "metadata": {},
   "outputs": [
    {
     "data": {
      "text/html": [
       "<div>\n",
       "<style scoped>\n",
       "    .dataframe tbody tr th:only-of-type {\n",
       "        vertical-align: middle;\n",
       "    }\n",
       "\n",
       "    .dataframe tbody tr th {\n",
       "        vertical-align: top;\n",
       "    }\n",
       "\n",
       "    .dataframe thead th {\n",
       "        text-align: right;\n",
       "    }\n",
       "</style>\n",
       "<table border=\"1\" class=\"dataframe\">\n",
       "  <thead>\n",
       "    <tr style=\"text-align: right;\">\n",
       "      <th></th>\n",
       "      <th>collaborative</th>\n",
       "      <th>description</th>\n",
       "      <th>duration_ms</th>\n",
       "      <th>modified_at</th>\n",
       "      <th>name</th>\n",
       "      <th>num_albums</th>\n",
       "      <th>num_artists</th>\n",
       "      <th>num_edits</th>\n",
       "      <th>num_followers</th>\n",
       "      <th>num_tracks</th>\n",
       "      <th>pid</th>\n",
       "      <th>tracks</th>\n",
       "      <th>normalized_name</th>\n",
       "    </tr>\n",
       "  </thead>\n",
       "  <tbody>\n",
       "    <tr>\n",
       "      <th>269</th>\n",
       "      <td>0</td>\n",
       "      <td>NaN</td>\n",
       "      <td>10567634</td>\n",
       "      <td>1491523200</td>\n",
       "      <td>That's What I Like</td>\n",
       "      <td>37</td>\n",
       "      <td>31</td>\n",
       "      <td>7</td>\n",
       "      <td>71643</td>\n",
       "      <td>39</td>\n",
       "      <td>248269</td>\n",
       "      <td>[{'pos': 0, 'artist_name': 'Bruno Mars', 'trac...</td>\n",
       "      <td>that's what i like</td>\n",
       "    </tr>\n",
       "    <tr>\n",
       "      <th>359</th>\n",
       "      <td>0</td>\n",
       "      <td>Every song ever featured on Breaking Bad!</td>\n",
       "      <td>23561532</td>\n",
       "      <td>1381104000</td>\n",
       "      <td>Breaking Bad</td>\n",
       "      <td>102</td>\n",
       "      <td>101</td>\n",
       "      <td>26</td>\n",
       "      <td>53519</td>\n",
       "      <td>106</td>\n",
       "      <td>746359</td>\n",
       "      <td>[{'pos': 0, 'artist_name': 'Badfinger', 'track...</td>\n",
       "      <td>breaking bad</td>\n",
       "    </tr>\n",
       "    <tr>\n",
       "      <th>472</th>\n",
       "      <td>0</td>\n",
       "      <td>NaN</td>\n",
       "      <td>27955610</td>\n",
       "      <td>1509062400</td>\n",
       "      <td>One Tree Hill</td>\n",
       "      <td>85</td>\n",
       "      <td>78</td>\n",
       "      <td>8</td>\n",
       "      <td>45942</td>\n",
       "      <td>111</td>\n",
       "      <td>399472</td>\n",
       "      <td>[{'pos': 0, 'artist_name': 'Audioslave', 'trac...</td>\n",
       "      <td>one tree hill</td>\n",
       "    </tr>\n",
       "    <tr>\n",
       "      <th>831</th>\n",
       "      <td>0</td>\n",
       "      <td>NaN</td>\n",
       "      <td>11824924</td>\n",
       "      <td>1478908800</td>\n",
       "      <td>My Little Pony</td>\n",
       "      <td>9</td>\n",
       "      <td>25</td>\n",
       "      <td>6</td>\n",
       "      <td>31539</td>\n",
       "      <td>85</td>\n",
       "      <td>180831</td>\n",
       "      <td>[{'pos': 0, 'artist_name': 'Applebloom', 'trac...</td>\n",
       "      <td>my little pony</td>\n",
       "    </tr>\n",
       "    <tr>\n",
       "      <th>740</th>\n",
       "      <td>0</td>\n",
       "      <td>Jack's &lt;a href=\"http://instagram.com/thatsojac...</td>\n",
       "      <td>18541204</td>\n",
       "      <td>1458604800</td>\n",
       "      <td>Q1</td>\n",
       "      <td>75</td>\n",
       "      <td>72</td>\n",
       "      <td>63</td>\n",
       "      <td>27830</td>\n",
       "      <td>81</td>\n",
       "      <td>720740</td>\n",
       "      <td>[{'pos': 0, 'artist_name': 'dvsn', 'track_uri'...</td>\n",
       "      <td>q1</td>\n",
       "    </tr>\n",
       "  </tbody>\n",
       "</table>\n",
       "</div>"
      ],
      "text/plain": [
       "     collaborative                                        description  \\\n",
       "269              0                                                NaN   \n",
       "359              0          Every song ever featured on Breaking Bad!   \n",
       "472              0                                                NaN   \n",
       "831              0                                                NaN   \n",
       "740              0  Jack's <a href=\"http://instagram.com/thatsojac...   \n",
       "\n",
       "     duration_ms  modified_at                name  num_albums  num_artists  \\\n",
       "269     10567634   1491523200  That's What I Like          37           31   \n",
       "359     23561532   1381104000        Breaking Bad         102          101   \n",
       "472     27955610   1509062400       One Tree Hill          85           78   \n",
       "831     11824924   1478908800      My Little Pony           9           25   \n",
       "740     18541204   1458604800                  Q1          75           72   \n",
       "\n",
       "     num_edits  num_followers  num_tracks     pid  \\\n",
       "269          7          71643          39  248269   \n",
       "359         26          53519         106  746359   \n",
       "472          8          45942         111  399472   \n",
       "831          6          31539          85  180831   \n",
       "740         63          27830          81  720740   \n",
       "\n",
       "                                                tracks     normalized_name  \n",
       "269  [{'pos': 0, 'artist_name': 'Bruno Mars', 'trac...  that's what i like  \n",
       "359  [{'pos': 0, 'artist_name': 'Badfinger', 'track...        breaking bad  \n",
       "472  [{'pos': 0, 'artist_name': 'Audioslave', 'trac...       one tree hill  \n",
       "831  [{'pos': 0, 'artist_name': 'Applebloom', 'trac...      my little pony  \n",
       "740  [{'pos': 0, 'artist_name': 'dvsn', 'track_uri'...                  q1  "
      ]
     },
     "execution_count": 5,
     "metadata": {},
     "output_type": "execute_result"
    }
   ],
   "source": [
    "social_df.sort_values(by=['num_followers'], ascending=False).head()"
   ]
  },
  {
   "cell_type": "code",
   "execution_count": 6,
   "metadata": {},
   "outputs": [
    {
     "data": {
      "text/html": [
       "<div>\n",
       "<style scoped>\n",
       "    .dataframe tbody tr th:only-of-type {\n",
       "        vertical-align: middle;\n",
       "    }\n",
       "\n",
       "    .dataframe tbody tr th {\n",
       "        vertical-align: top;\n",
       "    }\n",
       "\n",
       "    .dataframe thead th {\n",
       "        text-align: right;\n",
       "    }\n",
       "</style>\n",
       "<table border=\"1\" class=\"dataframe\">\n",
       "  <thead>\n",
       "    <tr style=\"text-align: right;\">\n",
       "      <th></th>\n",
       "      <th>collaborative</th>\n",
       "      <th>description</th>\n",
       "      <th>duration_ms</th>\n",
       "      <th>modified_at</th>\n",
       "      <th>name</th>\n",
       "      <th>num_albums</th>\n",
       "      <th>num_artists</th>\n",
       "      <th>num_edits</th>\n",
       "      <th>num_followers</th>\n",
       "      <th>num_tracks</th>\n",
       "      <th>pid</th>\n",
       "      <th>tracks</th>\n",
       "      <th>normalized_name</th>\n",
       "    </tr>\n",
       "  </thead>\n",
       "  <tbody>\n",
       "    <tr>\n",
       "      <th>712</th>\n",
       "      <td>0</td>\n",
       "      <td>NaN</td>\n",
       "      <td>59649777</td>\n",
       "      <td>1455753600</td>\n",
       "      <td>90s</td>\n",
       "      <td>239</td>\n",
       "      <td>238</td>\n",
       "      <td>16</td>\n",
       "      <td>10</td>\n",
       "      <td>240</td>\n",
       "      <td>544712</td>\n",
       "      <td>[{'pos': 0, 'artist_name': '4 Non Blondes', 't...</td>\n",
       "      <td>90s</td>\n",
       "    </tr>\n",
       "    <tr>\n",
       "      <th>816</th>\n",
       "      <td>0</td>\n",
       "      <td>NaN</td>\n",
       "      <td>67066064</td>\n",
       "      <td>1504483200</td>\n",
       "      <td>Best</td>\n",
       "      <td>239</td>\n",
       "      <td>225</td>\n",
       "      <td>37</td>\n",
       "      <td>5</td>\n",
       "      <td>243</td>\n",
       "      <td>749816</td>\n",
       "      <td>[{'pos': 0, 'artist_name': 'Mulatu Astatke', '...</td>\n",
       "      <td>best</td>\n",
       "    </tr>\n",
       "    <tr>\n",
       "      <th>827</th>\n",
       "      <td>0</td>\n",
       "      <td>The ultimate chill pill.  Kick back and unwind.</td>\n",
       "      <td>62662727</td>\n",
       "      <td>1508803200</td>\n",
       "      <td>Chillstep</td>\n",
       "      <td>239</td>\n",
       "      <td>224</td>\n",
       "      <td>52</td>\n",
       "      <td>7</td>\n",
       "      <td>246</td>\n",
       "      <td>683827</td>\n",
       "      <td>[{'pos': 0, 'artist_name': 'NGB Dubstep', 'tra...</td>\n",
       "      <td>chillstep</td>\n",
       "    </tr>\n",
       "    <tr>\n",
       "      <th>863</th>\n",
       "      <td>0</td>\n",
       "      <td>NaN</td>\n",
       "      <td>57780667</td>\n",
       "      <td>1367366400</td>\n",
       "      <td>Spring 2013</td>\n",
       "      <td>226</td>\n",
       "      <td>223</td>\n",
       "      <td>3</td>\n",
       "      <td>5</td>\n",
       "      <td>243</td>\n",
       "      <td>132863</td>\n",
       "      <td>[{'pos': 0, 'artist_name': 'Waxahatchee', 'tra...</td>\n",
       "      <td>spring 2013</td>\n",
       "    </tr>\n",
       "    <tr>\n",
       "      <th>260</th>\n",
       "      <td>0</td>\n",
       "      <td>NaN</td>\n",
       "      <td>55730856</td>\n",
       "      <td>1454112000</td>\n",
       "      <td>2014</td>\n",
       "      <td>227</td>\n",
       "      <td>223</td>\n",
       "      <td>53</td>\n",
       "      <td>13</td>\n",
       "      <td>245</td>\n",
       "      <td>611260</td>\n",
       "      <td>[{'pos': 0, 'artist_name': 'Grimes', 'track_ur...</td>\n",
       "      <td>2014</td>\n",
       "    </tr>\n",
       "  </tbody>\n",
       "</table>\n",
       "</div>"
      ],
      "text/plain": [
       "     collaborative                                      description  \\\n",
       "712              0                                              NaN   \n",
       "816              0                                              NaN   \n",
       "827              0  The ultimate chill pill.  Kick back and unwind.   \n",
       "863              0                                              NaN   \n",
       "260              0                                              NaN   \n",
       "\n",
       "     duration_ms  modified_at         name  num_albums  num_artists  \\\n",
       "712     59649777   1455753600          90s         239          238   \n",
       "816     67066064   1504483200         Best         239          225   \n",
       "827     62662727   1508803200    Chillstep         239          224   \n",
       "863     57780667   1367366400  Spring 2013         226          223   \n",
       "260     55730856   1454112000         2014         227          223   \n",
       "\n",
       "     num_edits  num_followers  num_tracks     pid  \\\n",
       "712         16             10         240  544712   \n",
       "816         37              5         243  749816   \n",
       "827         52              7         246  683827   \n",
       "863          3              5         243  132863   \n",
       "260         53             13         245  611260   \n",
       "\n",
       "                                                tracks normalized_name  \n",
       "712  [{'pos': 0, 'artist_name': '4 Non Blondes', 't...             90s  \n",
       "816  [{'pos': 0, 'artist_name': 'Mulatu Astatke', '...            best  \n",
       "827  [{'pos': 0, 'artist_name': 'NGB Dubstep', 'tra...       chillstep  \n",
       "863  [{'pos': 0, 'artist_name': 'Waxahatchee', 'tra...     spring 2013  \n",
       "260  [{'pos': 0, 'artist_name': 'Grimes', 'track_ur...            2014  "
      ]
     },
     "execution_count": 6,
     "metadata": {},
     "output_type": "execute_result"
    }
   ],
   "source": [
    "social_df.sort_values(by=['num_artists'], ascending=False).head()"
   ]
  },
  {
   "cell_type": "code",
   "execution_count": 7,
   "metadata": {},
   "outputs": [
    {
     "data": {
      "text/html": [
       "<div>\n",
       "<style scoped>\n",
       "    .dataframe tbody tr th:only-of-type {\n",
       "        vertical-align: middle;\n",
       "    }\n",
       "\n",
       "    .dataframe tbody tr th {\n",
       "        vertical-align: top;\n",
       "    }\n",
       "\n",
       "    .dataframe thead th {\n",
       "        text-align: right;\n",
       "    }\n",
       "</style>\n",
       "<table border=\"1\" class=\"dataframe\">\n",
       "  <thead>\n",
       "    <tr style=\"text-align: right;\">\n",
       "      <th></th>\n",
       "      <th>collaborative</th>\n",
       "      <th>description</th>\n",
       "      <th>duration_ms</th>\n",
       "      <th>modified_at</th>\n",
       "      <th>name</th>\n",
       "      <th>num_albums</th>\n",
       "      <th>num_artists</th>\n",
       "      <th>num_edits</th>\n",
       "      <th>num_followers</th>\n",
       "      <th>num_tracks</th>\n",
       "      <th>pid</th>\n",
       "      <th>tracks</th>\n",
       "      <th>normalized_name</th>\n",
       "    </tr>\n",
       "  </thead>\n",
       "  <tbody>\n",
       "    <tr>\n",
       "      <th>214</th>\n",
       "      <td>0</td>\n",
       "      <td>NaN</td>\n",
       "      <td>55177026</td>\n",
       "      <td>1508803200</td>\n",
       "      <td>ATL</td>\n",
       "      <td>178</td>\n",
       "      <td>143</td>\n",
       "      <td>197</td>\n",
       "      <td>18</td>\n",
       "      <td>234</td>\n",
       "      <td>590214</td>\n",
       "      <td>[{'pos': 0, 'artist_name': 'Phoenix', 'track_u...</td>\n",
       "      <td>atl</td>\n",
       "    </tr>\n",
       "    <tr>\n",
       "      <th>857</th>\n",
       "      <td>1</td>\n",
       "      <td>NaN</td>\n",
       "      <td>56530730</td>\n",
       "      <td>1499644800</td>\n",
       "      <td>The Crew</td>\n",
       "      <td>218</td>\n",
       "      <td>186</td>\n",
       "      <td>197</td>\n",
       "      <td>7</td>\n",
       "      <td>242</td>\n",
       "      <td>763857</td>\n",
       "      <td>[{'pos': 0, 'artist_name': 'Neutral Milk Hotel...</td>\n",
       "      <td>the crew</td>\n",
       "    </tr>\n",
       "    <tr>\n",
       "      <th>169</th>\n",
       "      <td>0</td>\n",
       "      <td>NaN</td>\n",
       "      <td>60780455</td>\n",
       "      <td>1503014400</td>\n",
       "      <td>slow</td>\n",
       "      <td>212</td>\n",
       "      <td>156</td>\n",
       "      <td>191</td>\n",
       "      <td>7</td>\n",
       "      <td>238</td>\n",
       "      <td>729169</td>\n",
       "      <td>[{'pos': 0, 'artist_name': 'Jeremih', 'track_u...</td>\n",
       "      <td>slow</td>\n",
       "    </tr>\n",
       "    <tr>\n",
       "      <th>192</th>\n",
       "      <td>0</td>\n",
       "      <td>NaN</td>\n",
       "      <td>55871123</td>\n",
       "      <td>1506816000</td>\n",
       "      <td>Good Stuff</td>\n",
       "      <td>198</td>\n",
       "      <td>144</td>\n",
       "      <td>191</td>\n",
       "      <td>8</td>\n",
       "      <td>232</td>\n",
       "      <td>125192</td>\n",
       "      <td>[{'pos': 0, 'artist_name': 'Martin Solveig', '...</td>\n",
       "      <td>good stuff</td>\n",
       "    </tr>\n",
       "    <tr>\n",
       "      <th>74</th>\n",
       "      <td>0</td>\n",
       "      <td>NaN</td>\n",
       "      <td>76897119</td>\n",
       "      <td>1507593600</td>\n",
       "      <td>Quiet Time</td>\n",
       "      <td>146</td>\n",
       "      <td>99</td>\n",
       "      <td>188</td>\n",
       "      <td>5</td>\n",
       "      <td>236</td>\n",
       "      <td>885074</td>\n",
       "      <td>[{'pos': 0, 'artist_name': 'All Sons &amp; Daughte...</td>\n",
       "      <td>quiet time</td>\n",
       "    </tr>\n",
       "  </tbody>\n",
       "</table>\n",
       "</div>"
      ],
      "text/plain": [
       "     collaborative description  duration_ms  modified_at        name  \\\n",
       "214              0         NaN     55177026   1508803200         ATL   \n",
       "857              1         NaN     56530730   1499644800    The Crew   \n",
       "169              0         NaN     60780455   1503014400        slow   \n",
       "192              0         NaN     55871123   1506816000  Good Stuff   \n",
       "74               0         NaN     76897119   1507593600  Quiet Time   \n",
       "\n",
       "     num_albums  num_artists  num_edits  num_followers  num_tracks     pid  \\\n",
       "214         178          143        197             18         234  590214   \n",
       "857         218          186        197              7         242  763857   \n",
       "169         212          156        191              7         238  729169   \n",
       "192         198          144        191              8         232  125192   \n",
       "74          146           99        188              5         236  885074   \n",
       "\n",
       "                                                tracks normalized_name  \n",
       "214  [{'pos': 0, 'artist_name': 'Phoenix', 'track_u...             atl  \n",
       "857  [{'pos': 0, 'artist_name': 'Neutral Milk Hotel...        the crew  \n",
       "169  [{'pos': 0, 'artist_name': 'Jeremih', 'track_u...            slow  \n",
       "192  [{'pos': 0, 'artist_name': 'Martin Solveig', '...      good stuff  \n",
       "74   [{'pos': 0, 'artist_name': 'All Sons & Daughte...      quiet time  "
      ]
     },
     "execution_count": 7,
     "metadata": {},
     "output_type": "execute_result"
    }
   ],
   "source": [
    "social_df.sort_values(by=['num_edits'], ascending=False).head()"
   ]
  },
  {
   "cell_type": "code",
   "execution_count": 25,
   "metadata": {},
   "outputs": [
    {
     "name": "stdout",
     "output_type": "stream",
     "text": [
      "There were 933 collaborative playlists.\n",
      "There were 28718 non-collaborative playlists.\n"
     ]
    }
   ],
   "source": [
    "print('There were {0} collaborative playlists.'.format(sum(social_df['collaborative'] == 1)))\n",
    "print('There were {0} non-collaborative playlists.'.format(sum(social_df['collaborative'] == 0)))"
   ]
  },
  {
   "cell_type": "markdown",
   "metadata": {},
   "source": [
    "Let's plot the histogram distributions, split by 'collaborative' class, of the numbers of followers, artists, and edits."
   ]
  },
  {
   "cell_type": "code",
   "execution_count": 11,
   "metadata": {},
   "outputs": [
    {
     "data": {
      "text/plain": [
       "array([<matplotlib.axes._subplots.AxesSubplot object at 0x1b780a6d8>,\n",
       "       <matplotlib.axes._subplots.AxesSubplot object at 0x1b3bc7518>],\n",
       "      dtype=object)"
      ]
     },
     "execution_count": 11,
     "metadata": {},
     "output_type": "execute_result"
    },
    {
     "data": {
      "image/png": "[encoded data removed]",
      "text/plain": [
       "<Figure size 432x288 with 1 Axes>"
      ]
     },
     "metadata": {},
     "output_type": "display_data"
    },
    {
     "data": {
      "image/png": "[encoded data removed]",
      "text/plain": [
       "<Figure size 432x288 with 2 Axes>"
      ]
     },
     "metadata": {},
     "output_type": "display_data"
    }
   ],
   "source": [
    "social_df.hist(column='num_followers')\n",
    "social_df.hist(column='num_followers', by='collaborative')"
   ]
  },
  {
   "cell_type": "code",
   "execution_count": 12,
   "metadata": {},
   "outputs": [
    {
     "data": {
      "text/plain": [
       "array([<matplotlib.axes._subplots.AxesSubplot object at 0x19284b0f0>,\n",
       "       <matplotlib.axes._subplots.AxesSubplot object at 0x198144da0>],\n",
       "      dtype=object)"
      ]
     },
     "execution_count": 12,
     "metadata": {},
     "output_type": "execute_result"
    },
    {
     "data": {
      "image/png": "[encoded data removed]",
      "text/plain": [
       "<Figure size 432x288 with 1 Axes>"
      ]
     },
     "metadata": {},
     "output_type": "display_data"
    },
    {
     "data": {
      "image/png": "[encoded data removed]",
      "text/plain": [
       "<Figure size 432x288 with 2 Axes>"
      ]
     },
     "metadata": {},
     "output_type": "display_data"
    }
   ],
   "source": [
    "social_df.hist(column='num_artists')\n",
    "social_df.hist(column='num_artists', by='collaborative')"
   ]
  },
  {
   "cell_type": "code",
   "execution_count": 13,
   "metadata": {},
   "outputs": [
    {
     "data": {
      "text/plain": [
       "array([<matplotlib.axes._subplots.AxesSubplot object at 0x17f334940>,\n",
       "       <matplotlib.axes._subplots.AxesSubplot object at 0x16ed4b3c8>],\n",
       "      dtype=object)"
      ]
     },
     "execution_count": 13,
     "metadata": {},
     "output_type": "execute_result"
    },
    {
     "data": {
      "image/png": "[encoded data removed]",
      "text/plain": [
       "<Figure size 432x288 with 1 Axes>"
      ]
     },
     "metadata": {},
     "output_type": "display_data"
    },
    {
     "data": {
      "image/png": "[encoded data removed]",
      "text/plain": [
       "<Figure size 432x288 with 2 Axes>"
      ]
     },
     "metadata": {},
     "output_type": "display_data"
    }
   ],
   "source": [
    "social_df.hist(column='num_edits')\n",
    "social_df.hist(column='num_edits', by='collaborative')"
   ]
  },
  {
   "cell_type": "markdown",
   "metadata": {},
   "source": [
    "It looks like collaborative playlists have greater artist diversity and more edits, but not necessarily more followers. Let's see if these differences are statistically significant. I'll first plot some boxplots for each of number of edits, followers, and artists by collaboration class, and then do a Kruskal-Wallis one-way ANOVA to test for statistically significant differences between classes.\n",
    "\n",
    "Kruskal–Wallis is a non-parametric method to test whether or not the samples are drawn from the same distribution. Since it is a non-parametric method, the Kruskal–Wallis test does not assume a normal distribution of the residuals, unlike regular one-way ANOVA. Here we assume an identically shaped and scaled distribution for all groups, except for any difference in medians, giving us the null hypothesis that the medians of all groups are equal. Note that rejecting the null hypothesis does not indicate which of the groups differs."
   ]
  },
  {
   "cell_type": "code",
   "execution_count": 20,
   "metadata": {},
   "outputs": [
    {
     "data": {
      "text/plain": [
       "<matplotlib.axes._subplots.AxesSubplot at 0x164a3a9b0>"
      ]
     },
     "execution_count": 20,
     "metadata": {},
     "output_type": "execute_result"
    },
    {
     "data": {
      "image/png": "[encoded data removed]",
      "text/plain": [
       "<Figure size 432x288 with 1 Axes>"
      ]
     },
     "metadata": {},
     "output_type": "display_data"
    }
   ],
   "source": [
    "sns.boxplot(x='collaborative', y='num_edits', data=social_df)"
   ]
  },
  {
   "cell_type": "code",
   "execution_count": 21,
   "metadata": {},
   "outputs": [
    {
     "data": {
      "text/plain": [
       "<matplotlib.axes._subplots.AxesSubplot at 0x1485a2080>"
      ]
     },
     "execution_count": 21,
     "metadata": {},
     "output_type": "execute_result"
    },
    {
     "data": {
      "image/png": "[encoded data removed]",
      "text/plain": [
       "<Figure size 432x288 with 1 Axes>"
      ]
     },
     "metadata": {},
     "output_type": "display_data"
    }
   ],
   "source": [
    "sns.boxplot(x='collaborative', y='num_artists', data=social_df)"
   ]
  },
  {
   "cell_type": "code",
   "execution_count": 22,
   "metadata": {},
   "outputs": [
    {
     "data": {
      "text/plain": [
       "<matplotlib.axes._subplots.AxesSubplot at 0x18fd27438>"
      ]
     },
     "execution_count": 22,
     "metadata": {},
     "output_type": "execute_result"
    },
    {
     "data": {
      "image/png": "[encoded data removed]",
      "text/plain": [
       "<Figure size 432x288 with 1 Axes>"
      ]
     },
     "metadata": {},
     "output_type": "display_data"
    }
   ],
   "source": [
    "sns.boxplot(x='collaborative', y='num_followers', data=social_df)"
   ]
  },
  {
   "cell_type": "code",
   "execution_count": 24,
   "metadata": {},
   "outputs": [
    {
     "name": "stdout",
     "output_type": "stream",
     "text": [
      "Statistical significance of edit count difference between collaborative/personal playlists:\n",
      "KruskalResult(statistic=69.59346778420476, pvalue=7.287785579459069e-17)\n",
      "\n",
      "Statistical significance of unique artist count difference between collaborative/personal playlists:\n",
      "KruskalResult(statistic=112.20338346122699, pvalue=3.224734863213084e-26)\n",
      "\n",
      "Statistical significance of follower count difference between collaborative/personal playlists:\n",
      "KruskalResult(statistic=38.907299291392334, pvalue=4.444157539492859e-10)\n"
     ]
    }
   ],
   "source": [
    "import scipy.stats as stats\n",
    "\n",
    "collab_social_df = social_df[social_df['collaborative'] == 1]\n",
    "personal_social_df = social_df[social_df['collaborative'] == 0]\n",
    "\n",
    "print('Statistical significance of edit count difference between collaborative/personal playlists:')\n",
    "print(stats.kruskal(personal_social_df['num_edits'], collab_social_df['num_edits']))\n",
    "\n",
    "print('\\nStatistical significance of unique artist count difference between collaborative/personal playlists:')\n",
    "print(stats.kruskal(personal_social_df['num_artists'], collab_social_df['num_artists']))\n",
    "\n",
    "print('\\nStatistical significance of follower count difference between collaborative/personal playlists:')\n",
    "print(stats.kruskal(personal_social_df['num_followers'], collab_social_df['num_followers']))"
   ]
  },
  {
   "cell_type": "markdown",
   "metadata": {},
   "source": [
    "The Kruskal-Wallis one-way ANOVA showed that there was a statistically significant difference in follower count (χ2(397) = 38.91, p < 0.00001), unique artist count (χ2(397) = 112.20, p < 0.00001), and edit count (χ2(397) = 69.59, p < 0.00001) between the two groups of collaborative vs personal playlists. Therefore, I reject the null hypothesis that the two groups share the same median follower, unique artist, and edit count and conclude that the groups significantly differ.\n",
    "\n",
    "Looking at the boxplots in combination with the Kruskal-Wallis ANOVAs, we see that collaborative playlists have more edits and unique artists, but fewer followers, than personal playlists. As expected, collaborative playlists have more edits (because more people are working on the same playlist- note, though, that the edit count is **not** double-, triple-, or higher-counting each additional collaborator, as it measures one edit session as one two-hour block when any edits occur in the playlist) and have more diverse artist lists (because different collaborators each contribute unique music tastes and artists to the playlist). Interestingly, collaborative playlists seem to have fewer followers than personal playlists, though this may be because there are many more personal (28718) than collaborative (933) playlists in this dataset.\n",
    "\n",
    "In light of these results, let's do a cross-validated logistic regression to see if we can predict playlist collaboration from the playlist-level features we've been working with. I'm going to look quickly at the variance inflation factors for these features to see if they're highly correlated (which might cause issues for my log regression model)."
   ]
  },
  {
   "cell_type": "code",
   "execution_count": 5,
   "metadata": {},
   "outputs": [
    {
     "data": {
      "text/plain": [
       "const             3.795992\n",
       "duration_ms      18.742227\n",
       "num_albums       24.577429\n",
       "num_artists      12.561705\n",
       "num_edits         1.885403\n",
       "num_followers     1.001204\n",
       "num_tracks       23.130430\n",
       "collaborative     1.005172\n",
       "dtype: float64"
      ]
     },
     "execution_count": 5,
     "metadata": {},
     "output_type": "execute_result"
    }
   ],
   "source": [
    "from statsmodels.stats.outliers_influence import variance_inflation_factor\n",
    "from statsmodels.tools.tools import add_constant\n",
    "\n",
    "df_w_constant = add_constant(social_df[feature_cols])\n",
    "\n",
    "pd.Series([variance_inflation_factor(df_w_constant.values, i) for i in range(df_w_constant.shape[1])], index=df_w_constant.columns)"
   ]
  },
  {
   "cell_type": "markdown",
   "metadata": {},
   "source": [
    "By looking at the variance inflation factors for the selected features, we can see that the number of albums, artists, tracks, and playlist duration are all highly correlated, with VIFs > 10 (obviously, because playlists with more tracks will be longer, and playlists with more artists will have more albums). I'll remove the playlist length and number of albums features to remove this multicollinearity in my logistic regression model (see below that this eliminates most of the multicollinearity)."
   ]
  },
  {
   "cell_type": "code",
   "execution_count": 27,
   "metadata": {},
   "outputs": [
    {
     "data": {
      "text/plain": [
       "const            3.737976\n",
       "num_artists      3.071608\n",
       "num_edits        1.857442\n",
       "num_followers    1.000414\n",
       "num_tracks       2.927868\n",
       "collaborative    1.004163\n",
       "dtype: float64"
      ]
     },
     "execution_count": 27,
     "metadata": {},
     "output_type": "execute_result"
    }
   ],
   "source": [
    "feature_cols = ['num_artists', 'num_edits', 'num_followers', 'num_tracks', 'collaborative']\n",
    "\n",
    "df_w_constant = add_constant(social_df[feature_cols])\n",
    "\n",
    "pd.Series([variance_inflation_factor(df_w_constant.values, i) for i in range(df_w_constant.shape[1])], index=df_w_constant.columns)"
   ]
  },
  {
   "cell_type": "code",
   "execution_count": 37,
   "metadata": {},
   "outputs": [],
   "source": [
    "from imblearn.over_sampling import SMOTE\n",
    "from sklearn.linear_model import LogisticRegressionCV\n",
    "from sklearn.cross_validation import train_test_split\n",
    "from sklearn.metrics import precision_recall_fscore_support, confusion_matrix, roc_curve, auc\n",
    "\n",
    "training_features = ['num_artists', 'num_edits', 'num_followers', 'num_tracks']\n",
    "\n",
    "X = social_df[training_features]\n",
    "y = social_df['collaborative']\n",
    "\n",
    "X_train, X_test, y_train, y_test = train_test_split(X, y, test_size=0.2, random_state=0)\n",
    "\n",
    "sm = SMOTE(random_state=0)\n",
    "X_train_smote, y_train_smote = sm.fit_sample(X_train, y_train)"
   ]
  },
  {
   "cell_type": "code",
   "execution_count": 38,
   "metadata": {},
   "outputs": [
    {
     "name": "stdout",
     "output_type": "stream",
     "text": [
      "The model selected [0.00599484] as C.\n",
      "The most informative features are:\n",
      "[(0.01195690256115518, 'num_artists'), (-0.00018085225507063146, 'num_edits'), (-0.00188763118502165, 'num_tracks'), (-0.004957175749307662, 'num_followers')]\n"
     ]
    }
   ],
   "source": [
    "model = LogisticRegressionCV(Cs=10, random_state=1)\n",
    "fitted = model.fit(X_train_smote, y_train_smote)\n",
    "y_pred = fitted.predict(X_test)\n",
    "\n",
    "print('The model selected {0} as C.'.format(fitted.C_))\n",
    "print('The most informative features are:')\n",
    "print(sorted(zip(fitted.coef_[0], X.columns.values),reverse=True))"
   ]
  },
  {
   "cell_type": "code",
   "execution_count": 42,
   "metadata": {},
   "outputs": [
    {
     "name": "stdout",
     "output_type": "stream",
     "text": [
      "Precision, recall, and F1 score, averaged and weighted by number of instances in each class:\n",
      "precision: 0.9461484143901565\n",
      "recall: 0.6287303995953465\n",
      "f1 score: 0.7465291459829057\n",
      "\n",
      "Precision, recall, and F1 score, per class [0 1]:\n",
      "precision: [0.97483266 0.04007286]\n",
      "recall: [0.63332754 0.48351648]\n",
      "f1 score: [0.76781949 0.07401177]\n"
     ]
    }
   ],
   "source": [
    "precision, recall, fscore, _ = precision_recall_fscore_support(y_test, y_pred, average='weighted')\n",
    "\n",
    "print('Precision, recall, and F1 score, averaged and weighted by number of instances in each class:')\n",
    "print('precision: {}'.format(precision))\n",
    "print('recall: {}'.format(recall))\n",
    "print('f1 score: {}\\n'.format(fscore))\n",
    "\n",
    "precision, recall, fscore, _ = precision_recall_fscore_support(y_test, y_pred)\n",
    "\n",
    "print('Precision, recall, and F1 score, per class [0 1]:')\n",
    "print('precision: {}'.format(precision))\n",
    "print('recall: {}'.format(recall))\n",
    "print('f1 score: {}'.format(fscore))"
   ]
  },
  {
   "cell_type": "code",
   "execution_count": 40,
   "metadata": {},
   "outputs": [
    {
     "data": {
      "text/plain": [
       "<matplotlib.axes._subplots.AxesSubplot at 0x16edfca20>"
      ]
     },
     "execution_count": 40,
     "metadata": {},
     "output_type": "execute_result"
    },
    {
     "data": {
      "image/png": "[encoded data removed]",
      "text/plain": [
       "<Figure size 432x288 with 2 Axes>"
      ]
     },
     "metadata": {},
     "output_type": "display_data"
    }
   ],
   "source": [
    "cm = confusion_matrix(y_test, y_pred)\n",
    "sns.heatmap(cm, annot=True)"
   ]
  },
  {
   "cell_type": "code",
   "execution_count": 41,
   "metadata": {},
   "outputs": [
    {
     "data": {
      "text/plain": [
       "<matplotlib.legend.Legend at 0x15020d9e8>"
      ]
     },
     "execution_count": 41,
     "metadata": {},
     "output_type": "execute_result"
    },
    {
     "data": {
      "image/png": "[encoded data removed]",
      "text/plain": [
       "<Figure size 432x288 with 1 Axes>"
      ]
     },
     "metadata": {},
     "output_type": "display_data"
    }
   ],
   "source": [
    "# Compute fpr, tpr, thresholds and roc auc\n",
    "fpr, tpr, thresholds = roc_curve(y_test, y_pred)\n",
    "roc_auc = np.trapz(tpr,fpr)\n",
    "\n",
    "# Plot ROC curve\n",
    "plt.plot(fpr, tpr, label='ROC curve (area = %0.3f)' % roc_auc)\n",
    "plt.plot([0, 1], [0, 1], 'k--')  # random predictions curve\n",
    "plt.xlim([0.0, 1.0])\n",
    "plt.ylim([0.0, 1.0])\n",
    "plt.xlabel('False Positive Rate or (1 - Specifity)')\n",
    "plt.ylabel('True Positive Rate or (Sensitivity)')\n",
    "plt.title('ROC curve')\n",
    "plt.legend(loc=\"lower right\")"
   ]
  },
  {
   "cell_type": "markdown",
   "metadata": {},
   "source": [
    "The logistic regression classifier didn't work that well; even though during training I tried to account for class imbalance by generating artificial samples with SMOTE, it seems that the playlist-level features aren't the most informative. My model has an overall f-score of 0.747, which hides the class imbalance issue of an f-score of 0.07 in the minority (collaborative) class. Additionally, my ROC AUC is only 0.558 (chance is 0.5).\n",
    "\n",
    "Looking at the coefficients of my model, though, number of artists is the most informative feature, followed by the number of edits, tracks, and followers respectively. Note that after removing my multicollinear features (num of albums and playlist duration) I drastically improved my model (in checkpoint.ipynb I didn't remove these features, resulting in an f-score of only 0.24 and a ROC AUC of 0.532)."
   ]
  },
  {
   "cell_type": "code",
   "execution_count": null,
   "metadata": {},
   "outputs": [],
   "source": []
  }
 ],
 "metadata": {
  "kernelspec": {
   "display_name": "Python 3",
   "language": "python",
   "name": "python3"
  },
  "language_info": {
   "codemirror_mode": {
    "name": "ipython",
    "version": 3
   },
   "file_extension": ".py",
   "mimetype": "text/x-python",
   "name": "python",
   "nbconvert_exporter": "python",
   "pygments_lexer": "ipython3",
   "version": "3.6.5"
  }
 },
 "nbformat": 4,
 "nbformat_minor": 2
}
