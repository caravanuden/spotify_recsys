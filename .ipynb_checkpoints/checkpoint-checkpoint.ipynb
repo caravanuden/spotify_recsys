{
 "cells": [
  {
   "cell_type": "code",
   "execution_count": 1,
   "metadata": {},
   "outputs": [],
   "source": [
    "import pandas as pd\n",
    "from pandas.io.json import json_normalize\n",
    "import numpy as np\n",
    "import sys, re, json, os, datetime\n",
    "from collections import Counter\n",
    "import seaborn as sns\n",
    "import matplotlib.pyplot as plt"
   ]
  },
  {
   "cell_type": "code",
   "execution_count": 2,
   "metadata": {},
   "outputs": [
    {
     "name": "stdout",
     "output_type": "stream",
     "text": [
      "0\n",
      "100\n",
      "200\n",
      "300\n",
      "400\n",
      "500\n",
      "600\n",
      "700\n",
      "800\n",
      "900\n",
      "CPU times: user 3min 51s, sys: 27.8 s, total: 4min 19s\n",
      "Wall time: 4min 26s\n"
     ]
    }
   ],
   "source": [
    "%%time\n",
    "def normalize_name(name):\n",
    "    name = name.lower()\n",
    "    name = re.sub(r\"[.,\\/#!$%\\^\\*;:{}=\\_`~()@-]\", ' ', name)\n",
    "    name = re.sub(r\"&\", 'and', name)\n",
    "    name = re.sub(r'\\s+', ' ', name).strip()\n",
    "    return name\n",
    "\n",
    "def make_social_df(path, num_slices, cutoff):\n",
    "    df_list = []\n",
    "    count = 0\n",
    "    filenames = os.listdir(path)\n",
    "    for filename in sorted(filenames):\n",
    "        if count < num_slices and filename.startswith(\"mpd.slice.\") and filename.endswith(\".json\"):\n",
    "            if count % 100 == 0:\n",
    "                print(count)\n",
    "            fullpath = os.sep.join((path, filename))\n",
    "            data = json.load(open(fullpath))\n",
    "            slice_df = json_normalize(data, 'playlists')\n",
    "            slice_df['normalized_name'] = slice_df['name'].apply(lambda x: normalize_name(x))\n",
    "            popular_df = slice_df[slice_df['num_followers'] >= cutoff]\n",
    "            df_list.append(popular_df)\n",
    "            count += 1\n",
    "    return pd.concat(df_list)\n",
    "\n",
    "path = '../mpd.v1/data'\n",
    "df = make_social_df(path, 1000, 5)"
   ]
  },
  {
   "cell_type": "code",
   "execution_count": 3,
   "metadata": {},
   "outputs": [
    {
     "name": "stdout",
     "output_type": "stream",
     "text": [
      "(29651, 13)\n"
     ]
    }
   ],
   "source": [
    "feature_cols = ['duration_ms', 'num_albums', 'num_artists', 'num_edits', 'num_followers', 'num_tracks', 'collaborative']\n",
    "df = df.replace({'collaborative': {'false':0, 'true':1}})\n",
    "df[feature_cols] = df[feature_cols].apply(pd.to_numeric, errors='coerce')\n",
    "print(df.shape)"
   ]
  },
  {
   "cell_type": "code",
   "execution_count": 4,
   "metadata": {},
   "outputs": [
    {
     "data": {
      "text/plain": [
       "const             3.795992\n",
       "duration_ms      18.742227\n",
       "num_albums       24.577429\n",
       "num_artists      12.561705\n",
       "num_edits         1.885403\n",
       "num_followers     1.001204\n",
       "num_tracks       23.130430\n",
       "collaborative     1.005172\n",
       "dtype: float64"
      ]
     },
     "execution_count": 4,
     "metadata": {},
     "output_type": "execute_result"
    }
   ],
   "source": [
    "from statsmodels.stats.outliers_influence import variance_inflation_factor\n",
    "from statsmodels.tools.tools import add_constant\n",
    "\n",
    "df_w_constant = add_constant(df[feature_cols])\n",
    "\n",
    "pd.Series([variance_inflation_factor(df_w_constant.values, i) for i in range(df_w_constant.shape[1])], index=df_w_constant.columns)"
   ]
  },
  {
   "cell_type": "code",
   "execution_count": 5,
   "metadata": {},
   "outputs": [
    {
     "name": "stderr",
     "output_type": "stream",
     "text": [
      "/Library/Frameworks/Python.framework/Versions/3.6/lib/python3.6/site-packages/scipy/linalg/basic.py:1226: RuntimeWarning: internal gelsd driver lwork query error, required iwork dimension not returned. This is likely the result of LAPACK bug 0038, fixed in LAPACK 3.2.2 (released July 21, 2010). Falling back to 'gelss' driver.\n",
      "  warnings.warn(mesg, RuntimeWarning)\n"
     ]
    },
    {
     "name": "stdout",
     "output_type": "stream",
     "text": [
      "Model accuracy: 0.0012024154423125877\n",
      "MSE: 557745.1426921646\n",
      "MAE: 71.10511250007556, 95% CI [64 77]\n",
      "R2: 0.0006246481968968931\n"
     ]
    },
    {
     "data": {
      "image/png": "[encoded data removed]",
      "text/plain": [
       "<Figure size 432x288 with 1 Axes>"
      ]
     },
     "metadata": {},
     "output_type": "display_data"
    }
   ],
   "source": [
    "from sklearn.model_selection import cross_val_predict, cross_val_score\n",
    "from sklearn import linear_model, metrics\n",
    "import numpy as np\n",
    "import scipy.stats as st\n",
    "import seaborn as sns\n",
    "\n",
    "data = df[feature_cols]\n",
    "\n",
    "X = data.drop(['num_followers'],axis=1)\n",
    "y = df['num_followers'] \n",
    "\n",
    "lm = linear_model.LinearRegression(normalize=True)\n",
    "\n",
    "model = lm.fit(X, y)\n",
    "model_score = model.score(X, y)\n",
    "print('Model accuracy:', model_score)\n",
    "\n",
    "y_pred = cross_val_predict(lm, X, y, cv=10)\n",
    "\n",
    "mae = cross_val_score(lm, X, y, scoring='neg_mean_absolute_error', cv=10)\n",
    "mae_ci = np.array((0,2))\n",
    "mae_ci[1], mae_ci[0] = np.abs(st.t.interval(0.95, len(mae)-1, loc=np.mean(mae), scale=st.sem(mae)))\n",
    "\n",
    "print('MSE:', metrics.mean_squared_error(y, y_pred))\n",
    "print('MAE: {0}, 95% CI {1}'.format(metrics.mean_absolute_error(y, y_pred), mae_ci))\n",
    "print('R2:', metrics.r2_score(y, y_pred))\n",
    "\n",
    "plt.scatter(y, y_pred)\n",
    "plt.xlabel('True counts')\n",
    "plt.ylabel('Predicted counts')\n",
    "plt.title('Predicted vs. True Counts \\n of Spotify Playlist Followers Regression Model')\n",
    "plt.show()"
   ]
  },
  {
   "cell_type": "code",
   "execution_count": 6,
   "metadata": {},
   "outputs": [
    {
     "name": "stderr",
     "output_type": "stream",
     "text": [
      "/Library/Frameworks/Python.framework/Versions/3.6/lib/python3.6/site-packages/sklearn/cross_validation.py:41: DeprecationWarning: This module was deprecated in version 0.18 in favor of the model_selection module into which all the refactored classes and functions are moved. Also note that the interface of the new CV iterators are different from that of this module. This module will be removed in 0.20.\n",
      "  \"This module will be removed in 0.20.\", DeprecationWarning)\n"
     ]
    },
    {
     "name": "stdout",
     "output_type": "stream",
     "text": [
      "(29651, 13)\n"
     ]
    }
   ],
   "source": [
    "from imblearn.over_sampling import SMOTE\n",
    "from sklearn.linear_model import LogisticRegressionCV\n",
    "from sklearn.cross_validation import train_test_split\n",
    "from sklearn.metrics import precision_recall_fscore_support, confusion_matrix, roc_curve, auc\n",
    "\n",
    "print(df.shape)\n",
    "\n",
    "X = df[feature_cols].drop('collaborative', axis=1)\n",
    "y = df['collaborative']\n",
    "\n",
    "X_train, X_test, y_train, y_test = train_test_split(X, y, test_size=0.2, random_state=123)\n",
    "\n",
    "sm = SMOTE(random_state=123)\n",
    "X_train_smote, y_train_smote = sm.fit_sample(X_train, y_train)\n",
    "\n",
    "model = LogisticRegressionCV()\n",
    "fitted = model.fit(X_train_smote, y_train_smote)\n",
    "y_pred = fitted.predict(X_test)"
   ]
  },
  {
   "cell_type": "code",
   "execution_count": 7,
   "metadata": {},
   "outputs": [
    {
     "name": "stdout",
     "output_type": "stream",
     "text": [
      "The model selected [1291.54966501] as C.\n"
     ]
    }
   ],
   "source": [
    "from sklearn.linear_model import LogisticRegressionCV\n",
    "\n",
    "model = LogisticRegressionCV(Cs=10, random_state=0)\n",
    "fitted = model.fit(X_train_smote, y_train_smote)\n",
    "y_pred = fitted.predict(X_test)\n",
    "\n",
    "print('The model selected {0} as C.'.format(fitted.C_))"
   ]
  },
  {
   "cell_type": "code",
   "execution_count": 8,
   "metadata": {},
   "outputs": [
    {
     "name": "stdout",
     "output_type": "stream",
     "text": [
      "Precision, recall, and F1 score, averaged and weighted by number of instances in each class:\n",
      "\n",
      "precision: 0.9486532662344496\n",
      "recall: 0.16928005395380205\n",
      "f1 score: 0.24317727195776712\n",
      "\n",
      "Precision, recall, and F1 score, per class [0 1]:\n",
      "precision: [0.98081535 0.03649205]\n",
      "recall: [0.14278234 0.92079208]\n",
      "f1 score: [0.24927625 0.07020192]\n"
     ]
    }
   ],
   "source": [
    "precision, recall, fscore, _ = precision_recall_fscore_support(y_test, y_pred, average='weighted')\n",
    "\n",
    "print('Precision, recall, and F1 score, averaged and weighted by number of instances in each class:\\n')\n",
    "print('precision: {}'.format(precision))\n",
    "print('recall: {}'.format(recall))\n",
    "print('f1 score: {}\\n'.format(fscore))\n",
    "\n",
    "precision, recall, fscore, _ = precision_recall_fscore_support(y_test, y_pred)\n",
    "\n",
    "print('Precision, recall, and F1 score, per class [0 1]:')\n",
    "print('precision: {}'.format(precision))\n",
    "print('recall: {}'.format(recall))\n",
    "print('f1 score: {}'.format(fscore))"
   ]
  },
  {
   "cell_type": "code",
   "execution_count": 9,
   "metadata": {},
   "outputs": [
    {
     "data": {
      "text/plain": [
       "<matplotlib.axes._subplots.AxesSubplot at 0x17c778198>"
      ]
     },
     "execution_count": 9,
     "metadata": {},
     "output_type": "execute_result"
    },
    {
     "data": {
      "image/png": "[encoded data removed]",
      "text/plain": [
       "<Figure size 432x288 with 2 Axes>"
      ]
     },
     "metadata": {},
     "output_type": "display_data"
    }
   ],
   "source": [
    "cm = confusion_matrix(y_test, y_pred)\n",
    "sns.heatmap(cm, annot=True)"
   ]
  },
  {
   "cell_type": "code",
   "execution_count": 10,
   "metadata": {},
   "outputs": [
    {
     "data": {
      "text/plain": [
       "<matplotlib.legend.Legend at 0x160f3fe80>"
      ]
     },
     "execution_count": 10,
     "metadata": {},
     "output_type": "execute_result"
    },
    {
     "data": {
      "image/png": "[encoded data removed]",
      "text/plain": [
       "<Figure size 432x288 with 1 Axes>"
      ]
     },
     "metadata": {},
     "output_type": "display_data"
    }
   ],
   "source": [
    "# Compute fpr, tpr, thresholds and roc auc\n",
    "fpr, tpr, thresholds = roc_curve(y_test, y_pred)\n",
    "roc_auc = np.trapz(tpr,fpr)\n",
    "\n",
    "# Plot ROC curve\n",
    "plt.plot(fpr, tpr, label='ROC curve (area = %0.3f)' % roc_auc)\n",
    "plt.plot([0, 1], [0, 1], 'k--')  # random predictions curve\n",
    "plt.xlim([0.0, 1.0])\n",
    "plt.ylim([0.0, 1.0])\n",
    "plt.xlabel('False Positive Rate or (1 - Specifity)')\n",
    "plt.ylabel('True Positive Rate or (Sensitivity)')\n",
    "plt.title('ROC curve')\n",
    "plt.legend(loc=\"lower right\")"
   ]
  }
 ],
 "metadata": {
  "kernelspec": {
   "display_name": "Python 3",
   "language": "python",
   "name": "python3"
  },
  "language_info": {
   "codemirror_mode": {
    "name": "ipython",
    "version": 3
   },
   "file_extension": ".py",
   "mimetype": "text/x-python",
   "name": "python",
   "nbconvert_exporter": "python",
   "pygments_lexer": "ipython3",
   "version": "3.6.5"
  }
 },
 "nbformat": 4,
 "nbformat_minor": 2
}
